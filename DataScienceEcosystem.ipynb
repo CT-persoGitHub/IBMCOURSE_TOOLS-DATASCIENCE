{
 "cells": [
  {
   "cell_type": "markdown",
   "id": "c00339ba-0b85-44dd-b771-8602086b01aa",
   "metadata": {},
   "source": [
    "# Data Science Tools and Ecosystem"
   ]
  },
  {
   "cell_type": "markdown",
   "id": "25ead233-5431-4a1f-9fef-583b7f8e930b",
   "metadata": {},
   "source": [
    "In this notebook, Data Science Tools and Ecosystem are summarized."
   ]
  },
  {
   "cell_type": "markdown",
   "id": "94f21f11-7ad0-4360-9609-1aa0835066a1",
   "metadata": {},
   "source": [
    "__Objectives:__\n",
    "\n",
    "* List popular languages for Data Science\n",
    "* List commonly used libraries\n",
    "* List Data Science Tool  OpenSource\n",
    "* Simple operations with Python"
   ]
  },
  {
   "cell_type": "markdown",
   "id": "dfc9c739-93b5-4fdf-8bcb-f059332aeff2",
   "metadata": {},
   "source": [
    "Some of the popular languages that Data Scientists use are:\n",
    "1. Python\n",
    "2. R \n",
    "3. SQL\n",
    "4. and many other languages (java, scala, c++, julia,...)"
   ]
  },
  {
   "cell_type": "markdown",
   "id": "9cfa4712-68a2-45f1-ba79-d696d9fc4a29",
   "metadata": {},
   "source": [
    "Some of the commonly used libraries used by Data Scientists include:\n",
    "1. for Python language : \n",
    "* Pandas,\n",
    "* Numpy, \n",
    "* Scipy, \n",
    "* Matplotlib, \n",
    "* PyTorch, TensorFlow, Keras and scikit-learn (for machine learning/deep learning)\n",
    "2. for R language : \n",
    "* Ggplot2, \n",
    "* dplyr, \n",
    "* stringr, \n",
    "* Keras, Tensorflow (for machine learning/deep learning)"
   ]
  },
  {
   "cell_type": "markdown",
   "id": "99a8e666-e0be-4bc8-89bf-bc835da9b645",
   "metadata": {},
   "source": [
    "| Data Science Tools |\n",
    "| :------- |\n",
    "| Jupyter Notebook/JupyterLab     |\n",
    "| RStudio IDE     | \n",
    "| Git/GitHUB     |"
   ]
  },
  {
   "cell_type": "markdown",
   "id": "e94f8985-8b66-4edd-b629-f806f7c3c1b4",
   "metadata": {},
   "source": [
    "### Below are a few examples of evaluating arithmetic expressions in Python"
   ]
  },
  {
   "cell_type": "code",
   "execution_count": 2,
   "id": "a3f26218-76be-4425-a2d8-703ec037f56f",
   "metadata": {},
   "outputs": [
    {
     "name": "stdout",
     "output_type": "stream",
     "text": [
      "17\n"
     ]
    }
   ],
   "source": [
    "# This a simple arithmetic expression to mutiply then add integers\n",
    "a=3\n",
    "b=4\n",
    "c=5\n",
    "RESULT=(a*b)+5\n",
    "print(RESULT)"
   ]
  },
  {
   "cell_type": "code",
   "execution_count": 3,
   "id": "2bcc7539-8aa6-4b59-a7a3-1cff3f548187",
   "metadata": {},
   "outputs": [
    {
     "name": "stdout",
     "output_type": "stream",
     "text": [
      "3  hours and  20  minutes.\n"
     ]
    }
   ],
   "source": [
    "# This will convert 200 minutes to hours by diving by 60\n",
    "min=200\n",
    "hour=int(min/60)\n",
    "minR=min-hour*60\n",
    "print(hour,' hours and ',minR,' minutes.')"
   ]
  },
  {
   "cell_type": "markdown",
   "id": "7b692662-b3d9-4806-8dc3-ab5a55225f39",
   "metadata": {},
   "source": [
    "## Author\n",
    "Christophe Thiébaud"
   ]
  },
  {
   "cell_type": "code",
   "execution_count": null,
   "id": "edc1d801-0c50-44e9-8bab-a9a6bc47ca4c",
   "metadata": {},
   "outputs": [],
   "source": []
  }
 ],
 "metadata": {
  "kernelspec": {
   "display_name": "Python",
   "language": "python",
   "name": "conda-env-python-py"
  },
  "language_info": {
   "codemirror_mode": {
    "name": "ipython",
    "version": 3
   },
   "file_extension": ".py",
   "mimetype": "text/x-python",
   "name": "python",
   "nbconvert_exporter": "python",
   "pygments_lexer": "ipython3",
   "version": "3.7.12"
  }
 },
 "nbformat": 4,
 "nbformat_minor": 5
}
